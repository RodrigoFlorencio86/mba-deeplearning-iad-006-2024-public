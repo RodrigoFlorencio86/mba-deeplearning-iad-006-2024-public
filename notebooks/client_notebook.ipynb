{
 "cells": [
  {
   "cell_type": "code",
   "execution_count": 1,
   "metadata": {},
   "outputs": [],
   "source": [
    "import requests\n",
    "import json"
   ]
  },
  {
   "cell_type": "code",
   "execution_count": 2,
   "metadata": {},
   "outputs": [],
   "source": [
    "url = \"http://localhost:8000/predict\""
   ]
  },
  {
   "cell_type": "markdown",
   "metadata": {},
   "source": [
    "Insira um número aleatório para buscarmos uma imagem no MINST. Uma caixa de diálogo vai aparecer no topo do CodeSpace."
   ]
  },
  {
   "cell_type": "code",
   "execution_count": 13,
   "metadata": {},
   "outputs": [
    {
     "name": "stdout",
     "output_type": "stream",
     "text": [
      "Número escolhido: 5\n"
     ]
    }
   ],
   "source": [
    "# Solicitar ao usuário que insira um número\n",
    "chosen_number = int(input(\"Digite um número (0-9): \"))\n",
    "\n",
    "print(f\"Número escolhido: {chosen_number}\")"
   ]
  },
  {
   "cell_type": "markdown",
   "metadata": {},
   "source": [
    "Abaixo, execute para redimensionar e aplicar ajustes a imagem original do MINST"
   ]
  },
  {
   "cell_type": "code",
   "execution_count": 14,
   "metadata": {},
   "outputs": [
    {
     "data": {
      "image/png": "[encoded data removed]",
      "text/plain": [
       "<Figure size 640x480 with 1 Axes>"
      ]
     },
     "metadata": {},
     "output_type": "display_data"
    },
    {
     "name": "stdout",
     "output_type": "stream",
     "text": [
      "Imagem processada e pronta para ser enviada à API.\n"
     ]
    }
   ],
   "source": [
    "import numpy as np\n",
    "from sklearn.datasets import fetch_openml\n",
    "import random\n",
    "import matplotlib.pyplot as plt\n",
    "\n",
    "# Carregar o dataset MNIST\n",
    "mnist = fetch_openml('mnist_784', version=1, as_frame=False)\n",
    "\n",
    "# Separar as features (imagens) e os rótulos (números)\n",
    "X, y = mnist[\"data\"], mnist[\"target\"]\n",
    "\n",
    "# Converter os rótulos para inteiros\n",
    "y = y.astype(int)\n",
    "\n",
    "# Encontrar todas as imagens que correspondem ao número escolhido\n",
    "indices = np.where(y == chosen_number)[0]\n",
    "\n",
    "# Selecionar uma imagem aleatória entre as correspondentes\n",
    "random_index = random.choice(indices)\n",
    "selected_image = X[random_index]\n",
    "\n",
    "# Mostrar a imagem selecionada antes de redimensionar\n",
    "plt.imshow(selected_image.reshape(28, 28), cmap='gray')\n",
    "plt.title(f\"Imagem do número {chosen_number}\")\n",
    "plt.show()\n",
    "\n",
    "# Redimensionar a imagem para 8x8\n",
    "selected_image_8x8 = selected_image.reshape(28, 28)\n",
    "selected_image_8x8 = selected_image_8x8[::4, ::4]  # Subamostragem para 8x8\n",
    "\n",
    "# Normalizar os dados (se necessário)\n",
    "selected_image_8x8 = selected_image_8x8 / 255.0  # Normalizar os pixels para o intervalo [0, 1]\n",
    "\n",
    "# Achatar o array para uma única dimensão (vetor de características)\n",
    "input_data = selected_image_8x8.flatten().tolist()\n",
    "\n",
    "print(\"Imagem processada e pronta para ser enviada à API.\")\n"
   ]
  },
  {
   "cell_type": "markdown",
   "metadata": {},
   "source": [
    "EXECUTE ABAIXO PARA ENVIAR PARA API E RECEBER A PREDIÇÃO (lembre de abrir a porta 8000 no Terminal antes de executar)"
   ]
  },
  {
   "cell_type": "markdown",
   "metadata": {},
   "source": [
    "Para abrir a porta, use o comando a seguir no Terminal: docker run -p 8000:8000 modelo_decisao_fastapi"
   ]
  },
  {
   "cell_type": "code",
   "execution_count": 17,
   "metadata": {},
   "outputs": [
    {
     "name": "stdout",
     "output_type": "stream",
     "text": [
      "Status Code: 200\n",
      "Prediction: {'prediction': [8.0]}\n"
     ]
    }
   ],
   "source": [
    "import requests\n",
    "import json\n",
    "\n",
    "# Definir a URL do servidor FastAPI\n",
    "url = \"http://localhost:8000/predict\"\n",
    "\n",
    "# Dados de entrada para a inferência\n",
    "data = {\n",
    "    \"input\": input_data\n",
    "}\n",
    "\n",
    "# Enviar a solicitação POST\n",
    "response = requests.post(url, data=json.dumps(data), headers={\"Content-Type\": \"application/json\"})\n",
    "\n",
    "# Exibir a resposta\n",
    "print(\"Status Code:\", response.status_code)\n",
    "print(\"Prediction:\", response.json())\n"
   ]
  }
 ],
 "metadata": {
  "kernelspec": {
   "display_name": "Python 3",
   "language": "python",
   "name": "python3"
  },
  "language_info": {
   "codemirror_mode": {
    "name": "ipython",
    "version": 3
   },
   "file_extension": ".py",
   "mimetype": "text/x-python",
   "name": "python",
   "nbconvert_exporter": "python",
   "pygments_lexer": "ipython3",
   "version": "3.12.1"
  }
 },
 "nbformat": 4,
 "nbformat_minor": 2
}
